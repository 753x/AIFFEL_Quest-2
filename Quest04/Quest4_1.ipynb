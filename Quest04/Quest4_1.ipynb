{
  "nbformat": 4,
  "nbformat_minor": 0,
  "metadata": {
    "colab": {
      "provenance": [],
      "include_colab_link": true
    },
    "kernelspec": {
      "name": "python3",
      "display_name": "Python 3"
    },
    "language_info": {
      "name": "python"
    }
  },
  "cells": [
    {
      "cell_type": "markdown",
      "metadata": {
        "id": "view-in-github",
        "colab_type": "text"
      },
      "source": [
        "<a href=\"https://colab.research.google.com/github/elliekim9881/AIFFEL_Quest/blob/master/Quest04/Quest4_1.ipynb\" target=\"_parent\"><img src=\"https://colab.research.google.com/assets/colab-badge.svg\" alt=\"Open In Colab\"/></a>"
      ]
    },
    {
      "cell_type": "code",
      "execution_count": 21,
      "metadata": {
        "id": "D13IuxhFo16F",
        "colab": {
          "base_uri": "https://localhost:8080/"
        },
        "outputId": "e35c56ca-48ca-440e-bbdd-7dc64a6f51ad"
      },
      "outputs": [
        {
          "output_type": "stream",
          "name": "stdout",
          "text": [
            "Using Comprehension:\n",
            "Nemo is swimming at 3 m/s\n",
            "Dory is swimming at 5 m/s\n",
            "Using  Generator:\n",
            "Nemo is swimming at 3 m/s\n",
            "Dory is swimming at 5 m/s\n"
          ]
        }
      ],
      "source": [
        "import time #sleep함수 이용하기 위해 import\n",
        "\n",
        "def fish_compre(fish_list) : #생선리스트 컴프리헨션으로 출력하는 함수 생성\n",
        "  return [f\"{fish['이름']} is swimming at {fish['speed']} m/s\" for fish in fish_list]\n",
        "\n",
        "def fish_gen(fish_list) : #생선리스트 제너레이터로 출력하는 함수 생성\n",
        "  for fish in fish_list:\n",
        "    yield f\"{fish['이름']} is swimming at {fish['speed']} m/s\"\n",
        "\n",
        "\n",
        "fish_list = [\n",
        "{\"이름\": \"Nemo\", \"speed\": 3},\n",
        "{\"이름\": \"Dory\", \"speed\": 5},\n",
        "] #생선리스트 생선\n",
        "\n",
        "print(\"Using Comprehension:\")\n",
        "compre_result =fish_compre(fish_list) #fish_compre함수 호출\n",
        "for result in compre_result : #생선 리스트 컴프리헨션으로 출력\n",
        "    print(result)\n",
        "    time.sleep(2) #2초 간격으로 출력\n",
        "\n",
        "print(\"Using  Generator:\")\n",
        "gen_result =fish_gen(fish_list) #fish_gen함수 호출\n",
        "for result in compre_result : #생선 리스트 제너레이터로 출력\n",
        "    print(result)\n",
        "    time.sleep(2) #2초 간격으로 출력\n",
        "\n"
      ]
    }
  ]
}