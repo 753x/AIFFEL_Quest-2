{
  "nbformat": 4,
  "nbformat_minor": 0,
  "metadata": {
    "colab": {
      "provenance": [],
      "authorship_tag": "ABX9TyOEdZ/jd0xP/6NtV7RBzlZ3",
      "include_colab_link": true
    },
    "kernelspec": {
      "name": "python3",
      "display_name": "Python 3"
    },
    "language_info": {
      "name": "python"
    }
  },
  "cells": [
    {
      "cell_type": "markdown",
      "metadata": {
        "id": "view-in-github",
        "colab_type": "text"
      },
      "source": [
        "<a href=\"https://colab.research.google.com/github/elliekim9881/AIFFEL_Quest/blob/master/Quest04/Quest4_2.ipynb\" target=\"_parent\"><img src=\"https://colab.research.google.com/assets/colab-badge.svg\" alt=\"Open In Colab\"/></a>"
      ]
    },
    {
      "cell_type": "code",
      "execution_count": 1,
      "metadata": {
        "id": "nbeHqJG_5WAi",
        "colab": {
          "base_uri": "https://localhost:8080/"
        },
        "outputId": "e49b05a5-1dde-409d-c346-f236c3ee68e4"
      },
      "outputs": [
        {
          "output_type": "stream",
          "name": "stdout",
          "text": [
            "도리 3 니모 5\n",
            "Using Comprehension:\n",
            "도리 is swimming at 3 m/s\n",
            "니모 is swimming at 5 m/s\n",
            "Using  Generator:\n",
            "도리 is swimming at 3 m/s\n",
            "니모 is swimming at 5 m/s\n"
          ]
        }
      ],
      "source": [
        "import time #sleep함수 이용하기 위해 import\n",
        "\n",
        "def fish_compre(fish_list) : #생선리스트 컴프리헨션으로 출력하는 함수 생성\n",
        "  return [f\"{fish['이름']} is swimming at {fish['speed']} m/s\" for fish in fish_list]\n",
        "\n",
        "def fish_gen(fish_list) : #생선리스트 제너레이터로 출력하는 함수 생성\n",
        "  for fish in fish_list:\n",
        "    yield f\"{fish['이름']} is swimming at {fish['speed']} m/s\"\n",
        "\n",
        "\n",
        "\n",
        "fish_list_input = list(map(str, input().split())) #리스트 형태로 사용자에게 입력받음\n",
        "\n",
        "fish_list = []\n",
        "for x in range(len(fish_list_input)//2) :          #fish_list에 딕셔너리 형태로 입력받은 값 append *사용자에게 항상 이름과 스피드를 짝으로 입력받기 때문에 모든경우에서 짝수로 입력받는다.\n",
        "  fish_list.append({\"이름\": fish_list_input[x * 2], \"speed\": fish_list_input[x * 2 + 1] })\n",
        "\n",
        "print(\"Using Comprehension:\")\n",
        "compre_result =fish_compre(fish_list)\n",
        "for result in compre_result : #생선 리스트 컴프리헨션으로 출력\n",
        "    print(result)\n",
        "    time.sleep(2) #2초 간격으로 출력\n",
        "\n",
        "print(\"Using  Generator:\")\n",
        "gen_result =fish_gen(fish_list) #생선 리스트 제너레이터로 출력\n",
        "for result in compre_result :\n",
        "    print(result)\n",
        "    time.sleep(2) #2초 간격으로 출력\n"
      ]
    }
  ]
}